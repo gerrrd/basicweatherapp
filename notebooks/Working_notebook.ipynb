{
 "cells": [
  {
   "cell_type": "code",
   "execution_count": 151,
   "id": "hazardous-peter",
   "metadata": {},
   "outputs": [],
   "source": [
    "from basicweatherapp.utils import get_data, search_city\n",
    "import pandas as pd"
   ]
  },
  {
   "cell_type": "code",
   "execution_count": 152,
   "id": "fourth-nylon",
   "metadata": {},
   "outputs": [],
   "source": [
    "city = search_city('Berlin')"
   ]
  },
  {
   "cell_type": "code",
   "execution_count": 153,
   "id": "theoretical-produce",
   "metadata": {},
   "outputs": [],
   "source": [
    "cd, today_data, df = get_data('Berlin', past = 5, pred = 2)"
   ]
  },
  {
   "cell_type": "code",
   "execution_count": 154,
   "id": "demographic-title",
   "metadata": {},
   "outputs": [
    {
     "data": {
      "text/plain": [
       "{'id': 5075789885210624,\n",
       " 'weather_state_name': 'Heavy Cloud',\n",
       " 'weather_state_abbr': 'hc',\n",
       " 'wind_direction_compass': 'WSW',\n",
       " 'created': '2021-03-25T15:34:52.585766Z',\n",
       " 'applicable_date': '2021-03-25',\n",
       " 'min_temp': 4.515,\n",
       " 'max_temp': 15.445,\n",
       " 'the_temp': 13.274999999999999,\n",
       " 'wind_speed': 3.270764641867494,\n",
       " 'wind_direction': 257.0938672742656,\n",
       " 'air_pressure': 1020.0,\n",
       " 'humidity': 65,\n",
       " 'visibility': 14.120660343593414,\n",
       " 'predictability': 71}"
      ]
     },
     "execution_count": 154,
     "metadata": {},
     "output_type": "execute_result"
    }
   ],
   "source": [
    "today_data"
   ]
  },
  {
   "cell_type": "code",
   "execution_count": 155,
   "id": "prerequisite-illinois",
   "metadata": {},
   "outputs": [
    {
     "data": {
      "text/plain": [
       "{'title': 'Berlin',\n",
       " 'location_type': 'City',\n",
       " 'woeid': 638242,\n",
       " 'latt_long': '52.516071,13.376980'}"
      ]
     },
     "execution_count": 155,
     "metadata": {},
     "output_type": "execute_result"
    }
   ],
   "source": [
    "cd"
   ]
  },
  {
   "cell_type": "code",
   "execution_count": 156,
   "id": "featured-yukon",
   "metadata": {},
   "outputs": [
    {
     "data": {
      "text/html": [
       "<div>\n",
       "<style scoped>\n",
       "    .dataframe tbody tr th:only-of-type {\n",
       "        vertical-align: middle;\n",
       "    }\n",
       "\n",
       "    .dataframe tbody tr th {\n",
       "        vertical-align: top;\n",
       "    }\n",
       "\n",
       "    .dataframe thead th {\n",
       "        text-align: right;\n",
       "    }\n",
       "</style>\n",
       "<table border=\"1\" class=\"dataframe\">\n",
       "  <thead>\n",
       "    <tr style=\"text-align: right;\">\n",
       "      <th></th>\n",
       "      <th>weather_state_name</th>\n",
       "      <th>weather_state_abbr</th>\n",
       "      <th>wind_direction_compass</th>\n",
       "      <th>applicable_date</th>\n",
       "      <th>min_temp</th>\n",
       "      <th>max_temp</th>\n",
       "      <th>the_temp</th>\n",
       "      <th>wind_speed</th>\n",
       "      <th>wind_direction</th>\n",
       "      <th>air_pressure</th>\n",
       "      <th>humidity</th>\n",
       "    </tr>\n",
       "  </thead>\n",
       "  <tbody>\n",
       "    <tr>\n",
       "      <th>0</th>\n",
       "      <td>Heavy Cloud</td>\n",
       "      <td>hc</td>\n",
       "      <td>WNW</td>\n",
       "      <td>2021-03-20</td>\n",
       "      <td>-2.515</td>\n",
       "      <td>4.790</td>\n",
       "      <td>3.125</td>\n",
       "      <td>5.171821</td>\n",
       "      <td>286.163435</td>\n",
       "      <td>1027.5</td>\n",
       "      <td>53</td>\n",
       "    </tr>\n",
       "    <tr>\n",
       "      <th>1</th>\n",
       "      <td>Light Rain</td>\n",
       "      <td>lr</td>\n",
       "      <td>NW</td>\n",
       "      <td>2021-03-21</td>\n",
       "      <td>2.490</td>\n",
       "      <td>8.945</td>\n",
       "      <td>7.195</td>\n",
       "      <td>10.183686</td>\n",
       "      <td>308.002855</td>\n",
       "      <td>1012.0</td>\n",
       "      <td>75</td>\n",
       "    </tr>\n",
       "    <tr>\n",
       "      <th>2</th>\n",
       "      <td>Heavy Cloud</td>\n",
       "      <td>hc</td>\n",
       "      <td>NW</td>\n",
       "      <td>2021-03-22</td>\n",
       "      <td>-0.255</td>\n",
       "      <td>9.960</td>\n",
       "      <td>8.680</td>\n",
       "      <td>4.724325</td>\n",
       "      <td>321.581916</td>\n",
       "      <td>1019.5</td>\n",
       "      <td>50</td>\n",
       "    </tr>\n",
       "    <tr>\n",
       "      <th>3</th>\n",
       "      <td>Heavy Cloud</td>\n",
       "      <td>hc</td>\n",
       "      <td>WNW</td>\n",
       "      <td>2021-03-23</td>\n",
       "      <td>3.325</td>\n",
       "      <td>9.270</td>\n",
       "      <td>8.210</td>\n",
       "      <td>5.838049</td>\n",
       "      <td>292.832910</td>\n",
       "      <td>1023.0</td>\n",
       "      <td>67</td>\n",
       "    </tr>\n",
       "    <tr>\n",
       "      <th>4</th>\n",
       "      <td>Heavy Cloud</td>\n",
       "      <td>hc</td>\n",
       "      <td>W</td>\n",
       "      <td>2021-03-24</td>\n",
       "      <td>2.880</td>\n",
       "      <td>14.045</td>\n",
       "      <td>11.110</td>\n",
       "      <td>5.174820</td>\n",
       "      <td>263.015749</td>\n",
       "      <td>1023.0</td>\n",
       "      <td>67</td>\n",
       "    </tr>\n",
       "    <tr>\n",
       "      <th>5</th>\n",
       "      <td>Heavy Cloud</td>\n",
       "      <td>hc</td>\n",
       "      <td>WSW</td>\n",
       "      <td>2021-03-25</td>\n",
       "      <td>4.515</td>\n",
       "      <td>15.445</td>\n",
       "      <td>13.275</td>\n",
       "      <td>3.270765</td>\n",
       "      <td>257.093867</td>\n",
       "      <td>1020.0</td>\n",
       "      <td>65</td>\n",
       "    </tr>\n",
       "    <tr>\n",
       "      <th>6</th>\n",
       "      <td>Showers</td>\n",
       "      <td>s</td>\n",
       "      <td>SSW</td>\n",
       "      <td>2021-03-26</td>\n",
       "      <td>7.305</td>\n",
       "      <td>15.325</td>\n",
       "      <td>13.775</td>\n",
       "      <td>4.362514</td>\n",
       "      <td>199.833397</td>\n",
       "      <td>1020.0</td>\n",
       "      <td>65</td>\n",
       "    </tr>\n",
       "    <tr>\n",
       "      <th>7</th>\n",
       "      <td>Light Rain</td>\n",
       "      <td>lr</td>\n",
       "      <td>WSW</td>\n",
       "      <td>2021-03-27</td>\n",
       "      <td>4.085</td>\n",
       "      <td>10.020</td>\n",
       "      <td>7.790</td>\n",
       "      <td>10.818584</td>\n",
       "      <td>251.135406</td>\n",
       "      <td>1016.0</td>\n",
       "      <td>74</td>\n",
       "    </tr>\n",
       "  </tbody>\n",
       "</table>\n",
       "</div>"
      ],
      "text/plain": [
       "  weather_state_name weather_state_abbr wind_direction_compass  \\\n",
       "0        Heavy Cloud                 hc                    WNW   \n",
       "1         Light Rain                 lr                     NW   \n",
       "2        Heavy Cloud                 hc                     NW   \n",
       "3        Heavy Cloud                 hc                    WNW   \n",
       "4        Heavy Cloud                 hc                      W   \n",
       "5        Heavy Cloud                 hc                    WSW   \n",
       "6            Showers                  s                    SSW   \n",
       "7         Light Rain                 lr                    WSW   \n",
       "\n",
       "  applicable_date  min_temp  max_temp  the_temp  wind_speed  wind_direction  \\\n",
       "0      2021-03-20    -2.515     4.790     3.125    5.171821      286.163435   \n",
       "1      2021-03-21     2.490     8.945     7.195   10.183686      308.002855   \n",
       "2      2021-03-22    -0.255     9.960     8.680    4.724325      321.581916   \n",
       "3      2021-03-23     3.325     9.270     8.210    5.838049      292.832910   \n",
       "4      2021-03-24     2.880    14.045    11.110    5.174820      263.015749   \n",
       "5      2021-03-25     4.515    15.445    13.275    3.270765      257.093867   \n",
       "6      2021-03-26     7.305    15.325    13.775    4.362514      199.833397   \n",
       "7      2021-03-27     4.085    10.020     7.790   10.818584      251.135406   \n",
       "\n",
       "   air_pressure  humidity  \n",
       "0        1027.5        53  \n",
       "1        1012.0        75  \n",
       "2        1019.5        50  \n",
       "3        1023.0        67  \n",
       "4        1023.0        67  \n",
       "5        1020.0        65  \n",
       "6        1020.0        65  \n",
       "7        1016.0        74  "
      ]
     },
     "execution_count": 156,
     "metadata": {},
     "output_type": "execute_result"
    }
   ],
   "source": [
    "df"
   ]
  },
  {
   "cell_type": "code",
   "execution_count": null,
   "id": "precise-defendant",
   "metadata": {},
   "outputs": [],
   "source": []
  }
 ],
 "metadata": {
  "kernelspec": {
   "display_name": "Python 3",
   "language": "python",
   "name": "python3"
  },
  "language_info": {
   "codemirror_mode": {
    "name": "ipython",
    "version": 3
   },
   "file_extension": ".py",
   "mimetype": "text/x-python",
   "name": "python",
   "nbconvert_exporter": "python",
   "pygments_lexer": "ipython3",
   "version": "3.8.6"
  }
 },
 "nbformat": 4,
 "nbformat_minor": 5
}
